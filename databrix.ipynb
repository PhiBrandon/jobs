{
 "cells": [
  {
   "cell_type": "code",
   "execution_count": 62,
   "metadata": {},
   "outputs": [
    {
     "name": "stdout",
     "output_type": "stream",
     "text": [
      "assistant:  Here is a short story for you:\n",
      "\n",
      "Once upon a time, in a land far away, there lived a little girl named Lucy. Lucy loved to explore the forest near her village. One sunny afternoon, as Lucy was walking through the trees, she came upon a small clearing with a beautiful flowing stream. \n",
      "\n",
      "Lucy walked over to the stream to get a closer look. That's when she noticed something strange - there was a tiny fairy trapped in the current! The fairy's wing seemed to be hurt and she couldn't fly out of the water. \n",
      "\n",
      "\"Help!\" cried the fairy. \"Please help me!\"\n",
      "\n",
      "Lucy didn't hesitate. She carefully waded into the stream and scooped the fairy up in her hands. The fairy was so small, she fit in Lucy's palm. \n",
      "\n",
      "\"Thank you for saving me,\" said the fairy. \"My name is Fiona. How can I repay your kindness?\"\n",
      "\n",
      "Lucy smiled. \"You don't owe me anything. I'm just glad I could help.\"\n",
      "\n",
      "Just then, Fiona had an idea. \"I know! Come with me and I'll show you a magic place in the forest that no human has ever seen before.\"\n",
      "\n",
      "Lucy's eyes widened with wonder. She gently placed Fiona on a leaf and followed the fairy deeper into the forest. Fiona led Lucy to a magical glade filled with flowers that glowed like rainbows. It was the most beautiful place Lucy had ever seen. \n",
      "\n",
      "From that day on, Lucy and Fiona were the best of friends. The end.\n"
     ]
    }
   ],
   "source": [
    "from llama_index.llms import Bedrock, ChatMessage\n",
    "from databricks.sdk import WorkspaceClient\n",
    "\n",
    "\n",
    "messages = [\n",
    "    ChatMessage(role=\"user\", content=\"Tell me a story\"),\n",
    "]\n",
    "\n",
    "llm = Bedrock(model=\"anthropic.claude-instant-v1\",\n",
    "              additional_kwargs={\"max_tokens_to_sample\": 8000})\n",
    "output = llm.chat(messages)\n",
    "print(output)"
   ]
  },
  {
   "cell_type": "code",
   "execution_count": 16,
   "metadata": {},
   "outputs": [],
   "source": [
    "from databricks.connect import DatabricksSession\n",
    "import pandas as pd\n",
    "\n",
    "# Create the Databricks session\n",
    "spark = DatabricksSession.builder.getOrCreate()\n",
    "\n",
    "# Read the samples catalog, nyctaxi schema, and trips table\n",
    "df = spark.read.table(\"samples.nyctaxi.trips\")"
   ]
  },
  {
   "cell_type": "code",
   "execution_count": 17,
   "metadata": {},
   "outputs": [],
   "source": [
    "# Read local file into a pandas dataframe\n",
    "pdf = pd.read_csv('data/dataset_best-linkedin-jobs-scraper_2023-10-25_12-15-39-346.csv')"
   ]
  },
  {
   "cell_type": "code",
   "execution_count": 69,
   "metadata": {},
   "outputs": [
    {
     "name": "stdout",
     "output_type": "stream",
     "text": [
      "+-------+------------+----------------+----------------+----------------+----------------+----------------+--------------------+----------------+--------------------+--------------------+--------------------+--------------+--------------------+--------------------+--------------------+--------------------+--------------------+\n",
      "|summary|     company|criteria/0/title|criteria/0/value|criteria/1/title|criteria/1/value|criteria/2/title|    criteria/2/value|criteria/3/title|    criteria/3/value|          datePosted|         description|employmentType|                  id|            industry|                link|            location|               title|\n",
      "+-------+------------+----------------+----------------+----------------+----------------+----------------+--------------------+----------------+--------------------+--------------------+--------------------+--------------+--------------------+--------------------+--------------------+--------------------+--------------------+\n",
      "|  count|           6|               6|               6|               6|               6|               6|                   6|               6|                   6|                   5|                   6|             5|                   6|                   5|                   6|                   6|                   6|\n",
      "|   mean|        NULL|            NULL|            NULL|            NULL|            NULL|            NULL|                NULL|            NULL|                NULL|                NULL|                NULL|          NULL|       3.703776424E9|                NULL|                NULL|                NULL|                NULL|\n",
      "| stddev|        NULL|            NULL|            NULL|            NULL|            NULL|            NULL|                NULL|            NULL|                NULL|                NULL|                NULL|          NULL|2.4527402325362306E7|                NULL|                NULL|                NULL|                NULL|\n",
      "|    min|CARIAD, Inc.| Seniority level|     Entry level| Employment type|       Full-time|    Job function|Engineering and I...|      Industries|Business Consulti...|2023-10-25T04:37:...|* We are open to ...|     FULL_TIME|          3671215760|Business Consulti...|https://www.linke...|          Reston, VA|Data Engineer, Az...|\n",
      "|    max|        SAIC| Seniority level|     Entry level| Employment type|       Full-time|    Job function|Information Techn...|      Industries|Software Development|2023-10-25T10:14:...|We are  CARIAD  ,...|     FULL_TIME|          3731724506|Software Development|https://www.linke...|Virginia, United ...|Software Engineer...|\n",
      "+-------+------------+----------------+----------------+----------------+----------------+----------------+--------------------+----------------+--------------------+--------------------+--------------------+--------------+--------------------+--------------------+--------------------+--------------------+--------------------+\n",
      "\n"
     ]
    }
   ],
   "source": [
    "# Convert the pandas dataframe to a spark dataframe\n",
    "df1 = spark.createDataFrame(pdf)\n",
    "#df1.describe().show()\n",
    "\n",
    "# Write the spark dataframe to a table in the Databricks cluster\n",
    "df1.write.saveAsTable(\"research_and_development.indeed_jobs.linkedin_jobs\")"
   ]
  },
  {
   "cell_type": "code",
   "execution_count": 95,
   "metadata": {},
   "outputs": [],
   "source": [
    "# Write the spark dataframe to a csv file in the catalog and schema volume\n",
    "df1.coalesce(1).write.format(\"csv\").option(\"header\", \"true\").save(\"/Volumes/research_and_development/indeed_jobs/vol1/linkedin_jobs\", mode=\"overwrite\")"
   ]
  },
  {
   "cell_type": "code",
   "execution_count": 23,
   "metadata": {},
   "outputs": [
    {
     "name": "stdout",
     "output_type": "stream",
     "text": [
      "+--------------------+----------------+----------------+----------------+----------------+----------------+--------------------+----------------+--------------------+--------------------+--------------------+--------------+----------+--------------------+--------------------+--------------------+--------------------+\n",
      "|             company|criteria/0/title|criteria/0/value|criteria/1/title|criteria/1/value|criteria/2/title|    criteria/2/value|criteria/3/title|    criteria/3/value|          datePosted|         description|employmentType|        id|            industry|                link|            location|               title|\n",
      "+--------------------+----------------+----------------+----------------+----------------+----------------+--------------------+----------------+--------------------+--------------------+--------------------+--------------+----------+--------------------+--------------------+--------------------+--------------------+\n",
      "|                 ICF| Seniority level|     Entry level| Employment type|       Full-time|    Job function|Information Techn...|      Industries|Business Consulti...|2023-10-25T04:37:...|* We are open to ...|     FULL_TIME|3677646750|Business Consulti...|https://www.linke...|          Reston, VA|Data Engineer, Az...|\n",
      "|           Paylocity| Seniority level|     Entry level| Employment type|       Full-time|    Job function|Engineering and I...|      Industries|Software Development|                NULL|Job Type\\n\\nFull-...|          NULL|3731724506|                NULL|https://www.linke...|       United States|Security Software...|\n",
      "|        CARIAD, Inc.| Seniority level|     Entry level| Employment type|       Full-time|    Job function|Engineering and I...|      Industries|Software Development|2023-10-25T05:11:...|We are  CARIAD  ,...|     FULL_TIME|3671215760|Software Development|https://www.linke...|     Santa Clara, CA|Software Engineer...|\n",
      "|Montrose Environm...| Seniority level|     Entry level| Employment type|       Full-time|    Job function|Information Techn...|      Industries|Environmental Ser...|2023-10-25T09:31:...|About You\\nAre YO...|     FULL_TIME|3703412950|Environmental Ser...|https://www.linke...|Texas, United States|ESG Jr. Data Mana...|\n",
      "|                SAIC| Seniority level|     Entry level| Employment type|       Full-time|    Job function|Engineering and I...|      Industries|IT Services and I...|2023-10-25T10:14:...|Job ID 2312607\\n\\...|     FULL_TIME|3719329758|IT Services and I...|https://www.linke...|Virginia, United ...|ServiceNow Softwa...|\n",
      "|                SAIC| Seniority level|     Entry level| Employment type|       Full-time|    Job function|Engineering and I...|      Industries|Computer Hardware...|2023-10-25T09:07:...|Job ID 2312613\\n\\...|     FULL_TIME|3719328820|Computer Hardware...|https://www.linke...|Virginia, United ...|ServiceNow Develo...|\n",
      "+--------------------+----------------+----------------+----------------+----------------+----------------+--------------------+----------------+--------------------+--------------------+--------------------+--------------+----------+--------------------+--------------------+--------------------+--------------------+\n",
      "\n"
     ]
    }
   ],
   "source": [
    "df1.show()"
   ]
  },
  {
   "cell_type": "code",
   "execution_count": 27,
   "metadata": {},
   "outputs": [
    {
     "data": {
      "text/plain": [
       "[('company', 'string'),\n",
       " ('criteria/0/title', 'string'),\n",
       " ('criteria/0/value', 'string'),\n",
       " ('criteria/1/title', 'string'),\n",
       " ('criteria/1/value', 'string'),\n",
       " ('criteria/2/title', 'string'),\n",
       " ('criteria/2/value', 'string'),\n",
       " ('criteria/3/title', 'string'),\n",
       " ('criteria/3/value', 'string'),\n",
       " ('datePosted', 'string'),\n",
       " ('description', 'string'),\n",
       " ('employmentType', 'string'),\n",
       " ('id', 'bigint'),\n",
       " ('industry', 'string'),\n",
       " ('link', 'string'),\n",
       " ('location', 'string'),\n",
       " ('title', 'string')]"
      ]
     },
     "execution_count": 27,
     "metadata": {},
     "output_type": "execute_result"
    }
   ],
   "source": [
    "df1.dtypes"
   ]
  },
  {
   "cell_type": "code",
   "execution_count": 28,
   "metadata": {},
   "outputs": [
    {
     "name": "stdout",
     "output_type": "stream",
     "text": [
      "+--------------------+\n",
      "|               title|\n",
      "+--------------------+\n",
      "|Data Engineer, Az...|\n",
      "|Security Software...|\n",
      "|Software Engineer...|\n",
      "|ESG Jr. Data Mana...|\n",
      "|ServiceNow Softwa...|\n",
      "|ServiceNow Develo...|\n",
      "+--------------------+\n",
      "\n"
     ]
    }
   ],
   "source": [
    "df1.select(\"title\").show()"
   ]
  },
  {
   "cell_type": "code",
   "execution_count": 42,
   "metadata": {},
   "outputs": [],
   "source": [
    "rows = df1.take(5)"
   ]
  },
  {
   "cell_type": "code",
   "execution_count": 49,
   "metadata": {},
   "outputs": [],
   "source": [
    "keys = rows[0].asDict().keys()"
   ]
  },
  {
   "cell_type": "code",
   "execution_count": 57,
   "metadata": {},
   "outputs": [],
   "source": [
    "from llama_index import Document\n",
    "docs = []\n",
    "for row in rows:\n",
    "    curr_doc = Document()\n",
    "    metadata = {}\n",
    "    for key in keys:\n",
    "        if key == 'description':\n",
    "            curr_doc.text = row[key]\n",
    "        else:\n",
    "            metadata[key] = row[key]\n",
    "    curr_doc.metadata = metadata\n",
    "    docs.append(curr_doc)"
   ]
  },
  {
   "cell_type": "code",
   "execution_count": 59,
   "metadata": {},
   "outputs": [
    {
     "name": "stdout",
     "output_type": "stream",
     "text": [
      "5\n"
     ]
    }
   ],
   "source": [
    "print(len(docs))"
   ]
  },
  {
   "cell_type": "code",
   "execution_count": 66,
   "metadata": {},
   "outputs": [
    {
     "name": "stdout",
     "output_type": "stream",
     "text": [
      "> Pandas Instructions:\n",
      "```\n",
      " df[df['description'].str.contains('pyspark')]\n",
      "```\n",
      "> Pandas Output: There was an error running the output as Python code. Error message: unexpected indent (<unknown>, line 1)\n"
     ]
    },
    {
     "name": "stderr",
     "output_type": "stream",
     "text": [
      "Traceback (most recent call last):\n",
      "  File \"/home/bphil/.local/lib/python3.10/site-packages/llama_index/query_engine/pandas_query_engine.py\", line 59, in default_output_processor\n",
      "    tree = ast.parse(output)\n",
      "  File \"/usr/lib/python3.10/ast.py\", line 50, in parse\n",
      "    return compile(source, filename, mode, flags,\n",
      "  File \"<unknown>\", line 1\n",
      "    df[df['description'].str.contains('pyspark')]\n",
      "IndentationError: unexpected indent\n"
     ]
    },
    {
     "data": {
      "text/plain": [
       "Response(response='There was an error running the output as Python code. Error message: unexpected indent (<unknown>, line 1)', source_nodes=[], metadata={'pandas_instruction_str': \" df[df['description'].str.contains('pyspark')]\"})"
      ]
     },
     "execution_count": 66,
     "metadata": {},
     "output_type": "execute_result"
    }
   ],
   "source": [
    "from llama_index.query_engine import PandasQueryEngine\n",
    "from llama_index import ServiceContext\n",
    "from llama_index.embeddings import HuggingFaceEmbedding\n",
    "panda = df1.toPandas()\n",
    "embed_model = HuggingFaceEmbedding(model_name=\"BAAI/bge-small-en-v1.5\")\n",
    "service_context = ServiceContext.from_defaults(llm=llm, embed_model=embed_model)\n",
    "\n",
    "query_engine = PandasQueryEngine(panda, verbose=True, service_context=service_context)\n",
    "response = query_engine.query(\"Which job uses pyspark\")\n",
    "response\n"
   ]
  },
  {
   "cell_type": "code",
   "execution_count": 67,
   "metadata": {},
   "outputs": [
    {
     "data": {
      "text/html": [
       "<div>\n",
       "<style scoped>\n",
       "    .dataframe tbody tr th:only-of-type {\n",
       "        vertical-align: middle;\n",
       "    }\n",
       "\n",
       "    .dataframe tbody tr th {\n",
       "        vertical-align: top;\n",
       "    }\n",
       "\n",
       "    .dataframe thead th {\n",
       "        text-align: right;\n",
       "    }\n",
       "</style>\n",
       "<table border=\"1\" class=\"dataframe\">\n",
       "  <thead>\n",
       "    <tr style=\"text-align: right;\">\n",
       "      <th></th>\n",
       "      <th>company</th>\n",
       "      <th>criteria/0/title</th>\n",
       "      <th>criteria/0/value</th>\n",
       "      <th>criteria/1/title</th>\n",
       "      <th>criteria/1/value</th>\n",
       "      <th>criteria/2/title</th>\n",
       "      <th>criteria/2/value</th>\n",
       "      <th>criteria/3/title</th>\n",
       "      <th>criteria/3/value</th>\n",
       "      <th>datePosted</th>\n",
       "      <th>description</th>\n",
       "      <th>employmentType</th>\n",
       "      <th>id</th>\n",
       "      <th>industry</th>\n",
       "      <th>link</th>\n",
       "      <th>location</th>\n",
       "      <th>title</th>\n",
       "    </tr>\n",
       "  </thead>\n",
       "  <tbody>\n",
       "  </tbody>\n",
       "</table>\n",
       "</div>"
      ],
      "text/plain": [
       "Empty DataFrame\n",
       "Columns: [company, criteria/0/title, criteria/0/value, criteria/1/title, criteria/1/value, criteria/2/title, criteria/2/value, criteria/3/title, criteria/3/value, datePosted, description, employmentType, id, industry, link, location, title]\n",
       "Index: []"
      ]
     },
     "execution_count": 67,
     "metadata": {},
     "output_type": "execute_result"
    }
   ],
   "source": [
    "panda[panda['description'].str.contains('pyspark')]"
   ]
  },
  {
   "cell_type": "code",
   "execution_count": null,
   "metadata": {},
   "outputs": [
    {
     "name": "stdout",
     "output_type": "stream",
     "text": [
      "+--------------------+----------------+----------------+----------------+----------------+----------------+--------------------+----------------+--------------------+--------------------+--------------------+--------------+----------+--------------------+--------------------+--------------------+--------------------+\n",
      "|             company|criteria/0/title|criteria/0/value|criteria/1/title|criteria/1/value|criteria/2/title|    criteria/2/value|criteria/3/title|    criteria/3/value|          datePosted|         description|employmentType|        id|            industry|                link|            location|               title|\n",
      "+--------------------+----------------+----------------+----------------+----------------+----------------+--------------------+----------------+--------------------+--------------------+--------------------+--------------+----------+--------------------+--------------------+--------------------+--------------------+\n",
      "|                 ICF| Seniority level|     Entry level| Employment type|       Full-time|    Job function|Information Techn...|      Industries|Business Consulti...|2023-10-25T04:37:...|* We are open to ...|     FULL_TIME|3677646750|Business Consulti...|https://www.linke...|          Reston, VA|Data Engineer, Az...|\n",
      "|           Paylocity| Seniority level|     Entry level| Employment type|       Full-time|    Job function|Engineering and I...|      Industries|Software Development|                NULL|Job Type\\n\\nFull-...|          NULL|3731724506|                NULL|https://www.linke...|       United States|Security Software...|\n",
      "|        CARIAD, Inc.| Seniority level|     Entry level| Employment type|       Full-time|    Job function|Engineering and I...|      Industries|Software Development|2023-10-25T05:11:...|We are  CARIAD  ,...|     FULL_TIME|3671215760|Software Development|https://www.linke...|     Santa Clara, CA|Software Engineer...|\n",
      "|Montrose Environm...| Seniority level|     Entry level| Employment type|       Full-time|    Job function|Information Techn...|      Industries|Environmental Ser...|2023-10-25T09:31:...|About You\\nAre YO...|     FULL_TIME|3703412950|Environmental Ser...|https://www.linke...|Texas, United States|ESG Jr. Data Mana...|\n",
      "|                SAIC| Seniority level|     Entry level| Employment type|       Full-time|    Job function|Engineering and I...|      Industries|IT Services and I...|2023-10-25T10:14:...|Job ID 2312607\\n\\...|     FULL_TIME|3719329758|IT Services and I...|https://www.linke...|Virginia, United ...|ServiceNow Softwa...|\n",
      "|                SAIC| Seniority level|     Entry level| Employment type|       Full-time|    Job function|Engineering and I...|      Industries|Computer Hardware...|2023-10-25T09:07:...|Job ID 2312613\\n\\...|     FULL_TIME|3719328820|Computer Hardware...|https://www.linke...|Virginia, United ...|ServiceNow Develo...|\n",
      "+--------------------+----------------+----------------+----------------+----------------+----------------+--------------------+----------------+--------------------+--------------------+--------------------+--------------+----------+--------------------+--------------------+--------------------+--------------------+\n",
      "\n"
     ]
    },
    {
     "data": {
      "text/html": [
       "<div>\n",
       "<style scoped>\n",
       "    .dataframe tbody tr th:only-of-type {\n",
       "        vertical-align: middle;\n",
       "    }\n",
       "\n",
       "    .dataframe tbody tr th {\n",
       "        vertical-align: top;\n",
       "    }\n",
       "\n",
       "    .dataframe thead th {\n",
       "        text-align: right;\n",
       "    }\n",
       "</style>\n",
       "<table border=\"1\" class=\"dataframe\">\n",
       "  <thead>\n",
       "    <tr style=\"text-align: right;\">\n",
       "      <th></th>\n",
       "      <th>company</th>\n",
       "      <th>criteria/0/title</th>\n",
       "      <th>criteria/0/value</th>\n",
       "      <th>criteria/1/title</th>\n",
       "      <th>criteria/1/value</th>\n",
       "      <th>criteria/2/title</th>\n",
       "      <th>criteria/2/value</th>\n",
       "      <th>criteria/3/title</th>\n",
       "      <th>criteria/3/value</th>\n",
       "      <th>datePosted</th>\n",
       "      <th>description</th>\n",
       "      <th>employmentType</th>\n",
       "      <th>id</th>\n",
       "      <th>industry</th>\n",
       "      <th>link</th>\n",
       "      <th>location</th>\n",
       "      <th>title</th>\n",
       "    </tr>\n",
       "  </thead>\n",
       "  <tbody>\n",
       "    <tr>\n",
       "      <th>0</th>\n",
       "      <td>ICF</td>\n",
       "      <td>Seniority level</td>\n",
       "      <td>Entry level</td>\n",
       "      <td>Employment type</td>\n",
       "      <td>Full-time</td>\n",
       "      <td>Job function</td>\n",
       "      <td>Information Technology</td>\n",
       "      <td>Industries</td>\n",
       "      <td>Business Consulting and Services</td>\n",
       "      <td>2023-10-25T04:37:27.000Z</td>\n",
       "      <td>* We are open to supporting 100% remote work a...</td>\n",
       "      <td>FULL_TIME</td>\n",
       "      <td>3677646750</td>\n",
       "      <td>Business Consulting and Services</td>\n",
       "      <td>https://www.linkedin.com/jobs/view/data-engine...</td>\n",
       "      <td>Reston, VA</td>\n",
       "      <td>Data Engineer, Azure-based Health Data System ...</td>\n",
       "    </tr>\n",
       "    <tr>\n",
       "      <th>1</th>\n",
       "      <td>Paylocity</td>\n",
       "      <td>Seniority level</td>\n",
       "      <td>Entry level</td>\n",
       "      <td>Employment type</td>\n",
       "      <td>Full-time</td>\n",
       "      <td>Job function</td>\n",
       "      <td>Engineering and Information Technology</td>\n",
       "      <td>Industries</td>\n",
       "      <td>Software Development</td>\n",
       "      <td>None</td>\n",
       "      <td>Job Type\\n\\nFull-time\\n\\nDescription\\n\\nWhen y...</td>\n",
       "      <td>None</td>\n",
       "      <td>3731724506</td>\n",
       "      <td>None</td>\n",
       "      <td>https://www.linkedin.com/jobs/view/security-so...</td>\n",
       "      <td>United States</td>\n",
       "      <td>Security Software Engineer</td>\n",
       "    </tr>\n",
       "    <tr>\n",
       "      <th>2</th>\n",
       "      <td>CARIAD, Inc.</td>\n",
       "      <td>Seniority level</td>\n",
       "      <td>Entry level</td>\n",
       "      <td>Employment type</td>\n",
       "      <td>Full-time</td>\n",
       "      <td>Job function</td>\n",
       "      <td>Engineering and Information Technology</td>\n",
       "      <td>Industries</td>\n",
       "      <td>Software Development</td>\n",
       "      <td>2023-10-25T05:11:37.000Z</td>\n",
       "      <td>We are  CARIAD  , an automotive software devel...</td>\n",
       "      <td>FULL_TIME</td>\n",
       "      <td>3671215760</td>\n",
       "      <td>Software Development</td>\n",
       "      <td>https://www.linkedin.com/jobs/view/software-en...</td>\n",
       "      <td>Santa Clara, CA</td>\n",
       "      <td>Software Engineer - HW Platform Development</td>\n",
       "    </tr>\n",
       "    <tr>\n",
       "      <th>3</th>\n",
       "      <td>Montrose Environmental Group</td>\n",
       "      <td>Seniority level</td>\n",
       "      <td>Entry level</td>\n",
       "      <td>Employment type</td>\n",
       "      <td>Full-time</td>\n",
       "      <td>Job function</td>\n",
       "      <td>Information Technology</td>\n",
       "      <td>Industries</td>\n",
       "      <td>Environmental Services</td>\n",
       "      <td>2023-10-25T09:31:30.000Z</td>\n",
       "      <td>About You\\nAre YOU enthusiastic, self-motivate...</td>\n",
       "      <td>FULL_TIME</td>\n",
       "      <td>3703412950</td>\n",
       "      <td>Environmental Services</td>\n",
       "      <td>https://www.linkedin.com/jobs/view/esg-jr-data...</td>\n",
       "      <td>Texas, United States</td>\n",
       "      <td>ESG Jr. Data Management Consultant - Computer ...</td>\n",
       "    </tr>\n",
       "    <tr>\n",
       "      <th>4</th>\n",
       "      <td>SAIC</td>\n",
       "      <td>Seniority level</td>\n",
       "      <td>Entry level</td>\n",
       "      <td>Employment type</td>\n",
       "      <td>Full-time</td>\n",
       "      <td>Job function</td>\n",
       "      <td>Engineering and Information Technology</td>\n",
       "      <td>Industries</td>\n",
       "      <td>IT Services and IT Consulting, Defense and Spa...</td>\n",
       "      <td>2023-10-25T10:14:33.000Z</td>\n",
       "      <td>Job ID 2312607\\n\\nLocation REMOTE WORK, VA, US...</td>\n",
       "      <td>FULL_TIME</td>\n",
       "      <td>3719329758</td>\n",
       "      <td>IT Services and IT Consulting,Defense and Spac...</td>\n",
       "      <td>https://www.linkedin.com/jobs/view/servicenow-...</td>\n",
       "      <td>Virginia, United States</td>\n",
       "      <td>ServiceNow Software Engineer - VIRTUAL</td>\n",
       "    </tr>\n",
       "    <tr>\n",
       "      <th>5</th>\n",
       "      <td>SAIC</td>\n",
       "      <td>Seniority level</td>\n",
       "      <td>Entry level</td>\n",
       "      <td>Employment type</td>\n",
       "      <td>Full-time</td>\n",
       "      <td>Job function</td>\n",
       "      <td>Engineering and Information Technology</td>\n",
       "      <td>Industries</td>\n",
       "      <td>Computer Hardware Manufacturing, Defense and S...</td>\n",
       "      <td>2023-10-25T09:07:15.000Z</td>\n",
       "      <td>Job ID 2312613\\n\\nLocation REMOTE WORK, VA, US...</td>\n",
       "      <td>FULL_TIME</td>\n",
       "      <td>3719328820</td>\n",
       "      <td>Computer Hardware Manufacturing,Defense and Sp...</td>\n",
       "      <td>https://www.linkedin.com/jobs/view/servicenow-...</td>\n",
       "      <td>Virginia, United States</td>\n",
       "      <td>ServiceNow Developer, Principal - VIRTUAL</td>\n",
       "    </tr>\n",
       "  </tbody>\n",
       "</table>\n",
       "</div>"
      ],
      "text/plain": [
       "                        company criteria/0/title criteria/0/value  \\\n",
       "0                           ICF  Seniority level      Entry level   \n",
       "1                     Paylocity  Seniority level      Entry level   \n",
       "2                  CARIAD, Inc.  Seniority level      Entry level   \n",
       "3  Montrose Environmental Group  Seniority level      Entry level   \n",
       "4                          SAIC  Seniority level      Entry level   \n",
       "5                          SAIC  Seniority level      Entry level   \n",
       "\n",
       "  criteria/1/title criteria/1/value criteria/2/title  \\\n",
       "0  Employment type        Full-time     Job function   \n",
       "1  Employment type        Full-time     Job function   \n",
       "2  Employment type        Full-time     Job function   \n",
       "3  Employment type        Full-time     Job function   \n",
       "4  Employment type        Full-time     Job function   \n",
       "5  Employment type        Full-time     Job function   \n",
       "\n",
       "                         criteria/2/value criteria/3/title  \\\n",
       "0                  Information Technology       Industries   \n",
       "1  Engineering and Information Technology       Industries   \n",
       "2  Engineering and Information Technology       Industries   \n",
       "3                  Information Technology       Industries   \n",
       "4  Engineering and Information Technology       Industries   \n",
       "5  Engineering and Information Technology       Industries   \n",
       "\n",
       "                                    criteria/3/value  \\\n",
       "0                   Business Consulting and Services   \n",
       "1                               Software Development   \n",
       "2                               Software Development   \n",
       "3                             Environmental Services   \n",
       "4  IT Services and IT Consulting, Defense and Spa...   \n",
       "5  Computer Hardware Manufacturing, Defense and S...   \n",
       "\n",
       "                 datePosted  \\\n",
       "0  2023-10-25T04:37:27.000Z   \n",
       "1                      None   \n",
       "2  2023-10-25T05:11:37.000Z   \n",
       "3  2023-10-25T09:31:30.000Z   \n",
       "4  2023-10-25T10:14:33.000Z   \n",
       "5  2023-10-25T09:07:15.000Z   \n",
       "\n",
       "                                         description employmentType  \\\n",
       "0  * We are open to supporting 100% remote work a...      FULL_TIME   \n",
       "1  Job Type\\n\\nFull-time\\n\\nDescription\\n\\nWhen y...           None   \n",
       "2  We are  CARIAD  , an automotive software devel...      FULL_TIME   \n",
       "3  About You\\nAre YOU enthusiastic, self-motivate...      FULL_TIME   \n",
       "4  Job ID 2312607\\n\\nLocation REMOTE WORK, VA, US...      FULL_TIME   \n",
       "5  Job ID 2312613\\n\\nLocation REMOTE WORK, VA, US...      FULL_TIME   \n",
       "\n",
       "           id                                           industry  \\\n",
       "0  3677646750                   Business Consulting and Services   \n",
       "1  3731724506                                               None   \n",
       "2  3671215760                               Software Development   \n",
       "3  3703412950                             Environmental Services   \n",
       "4  3719329758  IT Services and IT Consulting,Defense and Spac...   \n",
       "5  3719328820  Computer Hardware Manufacturing,Defense and Sp...   \n",
       "\n",
       "                                                link                 location  \\\n",
       "0  https://www.linkedin.com/jobs/view/data-engine...               Reston, VA   \n",
       "1  https://www.linkedin.com/jobs/view/security-so...            United States   \n",
       "2  https://www.linkedin.com/jobs/view/software-en...          Santa Clara, CA   \n",
       "3  https://www.linkedin.com/jobs/view/esg-jr-data...     Texas, United States   \n",
       "4  https://www.linkedin.com/jobs/view/servicenow-...  Virginia, United States   \n",
       "5  https://www.linkedin.com/jobs/view/servicenow-...  Virginia, United States   \n",
       "\n",
       "                                               title  \n",
       "0  Data Engineer, Azure-based Health Data System ...  \n",
       "1                         Security Software Engineer  \n",
       "2        Software Engineer - HW Platform Development  \n",
       "3  ESG Jr. Data Management Consultant - Computer ...  \n",
       "4             ServiceNow Software Engineer - VIRTUAL  \n",
       "5          ServiceNow Developer, Principal - VIRTUAL  "
      ]
     },
     "metadata": {},
     "output_type": "display_data"
    }
   ],
   "source": [
    "csv_sparf = spark.read.csv('/Volumes/research_and_development/indeed_jobs/vol1/linkedin_jobs', header=True,multiLine=True)\n",
    "csv_sparf.show()\n",
    "todf = csv_sparf.toPandas()\n",
    "todf"
   ]
  }
 ],
 "metadata": {
  "kernelspec": {
   "display_name": "Python 3",
   "language": "python",
   "name": "python3"
  },
  "language_info": {
   "codemirror_mode": {
    "name": "ipython",
    "version": 3
   },
   "file_extension": ".py",
   "mimetype": "text/x-python",
   "name": "python",
   "nbconvert_exporter": "python",
   "pygments_lexer": "ipython3",
   "version": "3.10.12"
  }
 },
 "nbformat": 4,
 "nbformat_minor": 2
}
